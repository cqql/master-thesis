{
 "cells": [
  {
   "cell_type": "code",
   "execution_count": null,
   "metadata": {
    "collapsed": true
   },
   "outputs": [],
   "source": [
    "import h5py as h5\n",
    "import matplotlib.pyplot as pp\n",
    "import matplotlib.transforms as mpt\n",
    "import numpy as np\n",
    "\n",
    "%matplotlib inline"
   ]
  },
  {
   "cell_type": "code",
   "execution_count": null,
   "metadata": {},
   "outputs": [],
   "source": [
    "dataset_path = \"/home/cqql/data/gists.h5\"\n",
    "\n",
    "with h5.File(dataset_path, \"r\") as f:\n",
    "    label_index = list(f[\"label_index\"])\n",
    "    logits = []\n",
    "    labels = []\n",
    "\n",
    "    def collect_logits(name, obj):\n",
    "        if not name.endswith(\"-17\") and not name.endswith(\"-18\"):\n",
    "            return\n",
    "        \n",
    "        print(name)\n",
    "\n",
    "        if isinstance(obj, h5.Group) and \"data\" in obj and \"labels\" in obj:\n",
    "            logits.append(np.array(obj[\"data\"]))\n",
    "            labels.append(np.array(obj[\"labels\"]))\n",
    "\n",
    "    f.visititems(collect_logits)"
   ]
  },
  {
   "cell_type": "code",
   "execution_count": null,
   "metadata": {
    "collapsed": true
   },
   "outputs": [],
   "source": [
    "logits = np.concatenate(logits, axis=0)\n",
    "labels = np.concatenate(labels, axis=0)\n",
    "\n",
    "labels[labels == -1] = len(label_index)\n",
    "label_index.append(\"<blank>\")"
   ]
  },
  {
   "cell_type": "code",
   "execution_count": null,
   "metadata": {
    "collapsed": true
   },
   "outputs": [],
   "source": [
    "cm = np.zeros((len(label_index), len(label_index)))\n",
    "predictions = np.argmax(logits, axis=-1)\n",
    "for i in range(len(label_index)):\n",
    "    fltr = labels == i\n",
    "    l = labels[fltr]\n",
    "    p = predictions[fltr]\n",
    "\n",
    "    for j in range(len(label_index)):\n",
    "        cm[i, j] = np.count_nonzero(p == j) / len(l)"
   ]
  },
  {
   "cell_type": "code",
   "execution_count": null,
   "metadata": {},
   "outputs": [],
   "source": [
    "fig, ax = pp.subplots(1, 1, figsize=(4, 4), dpi=300)\n",
    "\n",
    "ticks = np.arange(len(label_index))\n",
    "\n",
    "ax.set_xticks(ticks)\n",
    "ax.set_xticklabels(label_index, fontdict={\"size\": 5}, rotation=-45)\n",
    "ax.set_yticks(ticks)\n",
    "ax.set_yticklabels(label_index, fontdict={\"size\": 5}, rotation=-45)\n",
    "\n",
    "ax.xaxis.set_tick_params(labeltop=\"on\", labelbottom=\"off\", top=\"on\", bottom=\"off\")\n",
    "\n",
    "for tick in ax.xaxis.get_majorticklabels():\n",
    "    tick.set_horizontalalignment(\"right\")\n",
    "    \n",
    "for tick in ax.yaxis.get_majorticklabels():\n",
    "    tick.set_verticalalignment(\"bottom\")\n",
    "\n",
    "ax.imshow(cm)"
   ]
  },
  {
   "cell_type": "code",
   "execution_count": null,
   "metadata": {},
   "outputs": [],
   "source": [
    "fig.savefig(\"../doc/figures/dataset/confusion-matrix.png\", bbox_inches=mpt.Bbox.from_bounds(-0.2, 0.0, 4.0, 4.5))"
   ]
  }
 ],
 "metadata": {
  "kernelspec": {
   "display_name": "Python 3",
   "language": "python",
   "name": "python3"
  },
  "language_info": {
   "codemirror_mode": {
    "name": "ipython",
    "version": 3
   },
   "file_extension": ".py",
   "mimetype": "text/x-python",
   "name": "python",
   "nbconvert_exporter": "python",
   "pygments_lexer": "ipython3",
   "version": "3.6.0"
  }
 },
 "nbformat": 4,
 "nbformat_minor": 2
}
