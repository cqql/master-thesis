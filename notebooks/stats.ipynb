{
 "cells": [
  {
   "cell_type": "code",
   "execution_count": 1,
   "metadata": {
    "collapsed": true
   },
   "outputs": [],
   "source": [
    "import glob\n",
    "import os\n",
    "\n",
    "import numpy as np\n",
    "import pandas as pd"
   ]
  },
  {
   "cell_type": "code",
   "execution_count": 2,
   "metadata": {
    "collapsed": true
   },
   "outputs": [],
   "source": [
    "dirs = glob.glob(\"/home/cqql/Seafile/thesis/16-gestures/recordings/*\")"
   ]
  },
  {
   "cell_type": "code",
   "execution_count": 3,
   "metadata": {},
   "outputs": [],
   "source": [
    "events = [pd.read_csv(os.path.join(d, \"events.csv\")) for d in dirs]\n",
    "labels = [pd.read_csv(os.path.join(d, \"labels.csv\")) for d in dirs]"
   ]
  },
  {
   "cell_type": "code",
   "execution_count": 4,
   "metadata": {},
   "outputs": [
    {
     "name": "stdout",
     "output_type": "stream",
     "text": [
      "Total in time in minutes: 40.2542592\n"
     ]
    }
   ],
   "source": [
    "overall_time = sum(e[\"timestamp\"].max() - e[\"timestamp\"].min() for e in events)\n",
    "\n",
    "print(\"Total in time in minutes: {}\".format(overall_time / 10**6 / 60))"
   ]
  },
  {
   "cell_type": "code",
   "execution_count": 5,
   "metadata": {},
   "outputs": [
    {
     "name": "stdout",
     "output_type": "stream",
     "text": [
      "Total number of events: 84465277\n"
     ]
    }
   ],
   "source": [
    "overall_events = sum(len(e) for e in events)\n",
    "\n",
    "print(\"Total number of events: {}\".format(overall_events))"
   ]
  },
  {
   "cell_type": "code",
   "execution_count": 6,
   "metadata": {
    "collapsed": true
   },
   "outputs": [],
   "source": [
    "time = {}\n",
    "num_events = {}\n",
    "\n",
    "for e, l in zip(events, labels):\n",
    "    for start, end, name in l.itertuples(index=False):\n",
    "        if not name in time:\n",
    "            time[name] = []\n",
    "            \n",
    "        if not name in num_events:\n",
    "            num_events[name] = []\n",
    "            \n",
    "        ts = e[\"timestamp\"].values\n",
    "        time[name].append(end - start)\n",
    "        num_events[name].append(np.count_nonzero((ts >= start) & (ts <= end)))\n",
    "        \n",
    "time = {k: np.array(t) / 10**6 for k, t in time.items()}\n",
    "num_events = {k: np.array(e) for k, e in num_events.items()}"
   ]
  },
  {
   "cell_type": "code",
   "execution_count": 7,
   "metadata": {},
   "outputs": [],
   "source": [
    "num_instances = {k: len(t) for k, t in time.items()}\n",
    "total_time = {k: sum(t) for k, t in time.items()}\n",
    "total_events = {k: sum(e) for k, e in num_events.items()}\n",
    "avg_time = {k: np.mean(t) for k, t in time.items()}\n",
    "avg_events = {k: np.mean(e) for k, e in num_events.items()}\n",
    "std_time = {k: np.std(t) for k, t in time.items()}\n",
    "std_events = {k: np.std(t) for k, t in num_events.items()}"
   ]
  },
  {
   "cell_type": "code",
   "execution_count": 8,
   "metadata": {},
   "outputs": [
    {
     "data": {
      "text/plain": [
       "(22.176134650000002, 28865096)"
      ]
     },
     "execution_count": 8,
     "metadata": {},
     "output_type": "execute_result"
    }
   ],
   "source": [
    "blank_time = overall_time / 10**6 - sum(total_time.values())\n",
    "blank_events = overall_events - sum(total_events.values())\n",
    "\n",
    "blank_time / 60, blank_events"
   ]
  },
  {
   "cell_type": "code",
   "execution_count": 9,
   "metadata": {},
   "outputs": [],
   "source": [
    "df = pd.DataFrame(index=sorted(time.keys()))\n",
    "df[\"#inst\"] = pd.Series(num_instances)\n",
    "df[\"total_time\"] = pd.Series(total_time)\n",
    "df[\"avg_time\"] = pd.Series(avg_time)\n",
    "df[\"std_time\"] = pd.Series(std_time)\n",
    "df[\"total_ev\"] = pd.Series(total_events)\n",
    "df[\"avg_ev\"] = pd.Series(avg_events)\n",
    "df[\"std_ev\"] = pd.Series(std_events)\n",
    "\n",
    "\n",
    "\n",
    "df.loc[\"<blank>\"] = [np.nan, blank_time, np.nan, np.nan, blank_events, np.nan, np.nan]"
   ]
  },
  {
   "cell_type": "code",
   "execution_count": 10,
   "metadata": {},
   "outputs": [
    {
     "data": {
      "text/html": [
       "<div>\n",
       "<style>\n",
       "    .dataframe thead tr:only-child th {\n",
       "        text-align: right;\n",
       "    }\n",
       "\n",
       "    .dataframe thead th {\n",
       "        text-align: left;\n",
       "    }\n",
       "\n",
       "    .dataframe tbody tr th {\n",
       "        vertical-align: top;\n",
       "    }\n",
       "</style>\n",
       "<table border=\"1\" class=\"dataframe\">\n",
       "  <thead>\n",
       "    <tr style=\"text-align: right;\">\n",
       "      <th></th>\n",
       "      <th>#inst</th>\n",
       "      <th>total_time</th>\n",
       "      <th>avg_time</th>\n",
       "      <th>std_time</th>\n",
       "      <th>total_ev</th>\n",
       "      <th>avg_ev</th>\n",
       "      <th>std_ev</th>\n",
       "    </tr>\n",
       "  </thead>\n",
       "  <tbody>\n",
       "    <tr>\n",
       "      <th>beckoning</th>\n",
       "      <td>41.0</td>\n",
       "      <td>66.763535</td>\n",
       "      <td>1.628379</td>\n",
       "      <td>0.229014</td>\n",
       "      <td>2949776.0</td>\n",
       "      <td>71945.756098</td>\n",
       "      <td>29515.667067</td>\n",
       "    </tr>\n",
       "    <tr>\n",
       "      <th>finger-snap</th>\n",
       "      <td>40.0</td>\n",
       "      <td>59.443526</td>\n",
       "      <td>1.486088</td>\n",
       "      <td>0.327845</td>\n",
       "      <td>2203881.0</td>\n",
       "      <td>55097.025000</td>\n",
       "      <td>19777.529730</td>\n",
       "    </tr>\n",
       "    <tr>\n",
       "      <th>ok</th>\n",
       "      <td>40.0</td>\n",
       "      <td>63.322015</td>\n",
       "      <td>1.583050</td>\n",
       "      <td>0.195415</td>\n",
       "      <td>3054306.0</td>\n",
       "      <td>76357.650000</td>\n",
       "      <td>18290.085635</td>\n",
       "    </tr>\n",
       "    <tr>\n",
       "      <th>push-hand-down</th>\n",
       "      <td>41.0</td>\n",
       "      <td>77.488926</td>\n",
       "      <td>1.889974</td>\n",
       "      <td>0.255861</td>\n",
       "      <td>4000518.0</td>\n",
       "      <td>97573.609756</td>\n",
       "      <td>33154.508194</td>\n",
       "    </tr>\n",
       "    <tr>\n",
       "      <th>push-hand-left</th>\n",
       "      <td>40.0</td>\n",
       "      <td>74.389878</td>\n",
       "      <td>1.859747</td>\n",
       "      <td>0.417886</td>\n",
       "      <td>3859846.0</td>\n",
       "      <td>96496.150000</td>\n",
       "      <td>32781.624712</td>\n",
       "    </tr>\n",
       "    <tr>\n",
       "      <th>push-hand-right</th>\n",
       "      <td>39.0</td>\n",
       "      <td>75.817942</td>\n",
       "      <td>1.944050</td>\n",
       "      <td>0.267268</td>\n",
       "      <td>5550913.0</td>\n",
       "      <td>142331.102564</td>\n",
       "      <td>57933.151998</td>\n",
       "    </tr>\n",
       "    <tr>\n",
       "      <th>push-hand-up</th>\n",
       "      <td>41.0</td>\n",
       "      <td>83.916334</td>\n",
       "      <td>2.046740</td>\n",
       "      <td>0.309758</td>\n",
       "      <td>5278815.0</td>\n",
       "      <td>128751.585366</td>\n",
       "      <td>48901.492595</td>\n",
       "    </tr>\n",
       "    <tr>\n",
       "      <th>rotate-outward</th>\n",
       "      <td>40.0</td>\n",
       "      <td>50.935163</td>\n",
       "      <td>1.273379</td>\n",
       "      <td>0.192394</td>\n",
       "      <td>2104242.0</td>\n",
       "      <td>52606.050000</td>\n",
       "      <td>18325.925825</td>\n",
       "    </tr>\n",
       "    <tr>\n",
       "      <th>swipe-down</th>\n",
       "      <td>41.0</td>\n",
       "      <td>67.505919</td>\n",
       "      <td>1.646486</td>\n",
       "      <td>0.285907</td>\n",
       "      <td>3789590.0</td>\n",
       "      <td>92429.024390</td>\n",
       "      <td>47715.085493</td>\n",
       "    </tr>\n",
       "    <tr>\n",
       "      <th>swipe-left</th>\n",
       "      <td>41.0</td>\n",
       "      <td>65.501331</td>\n",
       "      <td>1.597593</td>\n",
       "      <td>0.278997</td>\n",
       "      <td>3709310.0</td>\n",
       "      <td>90470.975610</td>\n",
       "      <td>36633.244260</td>\n",
       "    </tr>\n",
       "    <tr>\n",
       "      <th>swipe-right</th>\n",
       "      <td>40.0</td>\n",
       "      <td>64.569184</td>\n",
       "      <td>1.614230</td>\n",
       "      <td>0.282917</td>\n",
       "      <td>3339538.0</td>\n",
       "      <td>83488.450000</td>\n",
       "      <td>39184.870213</td>\n",
       "    </tr>\n",
       "    <tr>\n",
       "      <th>swipe-up</th>\n",
       "      <td>42.0</td>\n",
       "      <td>71.381014</td>\n",
       "      <td>1.699548</td>\n",
       "      <td>0.275111</td>\n",
       "      <td>4359013.0</td>\n",
       "      <td>103786.023810</td>\n",
       "      <td>38998.559626</td>\n",
       "    </tr>\n",
       "    <tr>\n",
       "      <th>tap-index</th>\n",
       "      <td>40.0</td>\n",
       "      <td>62.238884</td>\n",
       "      <td>1.555972</td>\n",
       "      <td>0.192329</td>\n",
       "      <td>2620666.0</td>\n",
       "      <td>65516.650000</td>\n",
       "      <td>20536.629417</td>\n",
       "    </tr>\n",
       "    <tr>\n",
       "      <th>thumbs-up</th>\n",
       "      <td>40.0</td>\n",
       "      <td>54.663002</td>\n",
       "      <td>1.366575</td>\n",
       "      <td>0.214559</td>\n",
       "      <td>1939608.0</td>\n",
       "      <td>48490.200000</td>\n",
       "      <td>15750.504813</td>\n",
       "    </tr>\n",
       "    <tr>\n",
       "      <th>zoom-in</th>\n",
       "      <td>40.0</td>\n",
       "      <td>73.169005</td>\n",
       "      <td>1.829225</td>\n",
       "      <td>0.331248</td>\n",
       "      <td>3414950.0</td>\n",
       "      <td>85373.750000</td>\n",
       "      <td>36047.710980</td>\n",
       "    </tr>\n",
       "    <tr>\n",
       "      <th>zoom-out</th>\n",
       "      <td>41.0</td>\n",
       "      <td>73.581815</td>\n",
       "      <td>1.794678</td>\n",
       "      <td>0.260898</td>\n",
       "      <td>3425209.0</td>\n",
       "      <td>83541.682927</td>\n",
       "      <td>28812.035706</td>\n",
       "    </tr>\n",
       "    <tr>\n",
       "      <th>&lt;blank&gt;</th>\n",
       "      <td>NaN</td>\n",
       "      <td>1330.568079</td>\n",
       "      <td>NaN</td>\n",
       "      <td>NaN</td>\n",
       "      <td>28865096.0</td>\n",
       "      <td>NaN</td>\n",
       "      <td>NaN</td>\n",
       "    </tr>\n",
       "  </tbody>\n",
       "</table>\n",
       "</div>"
      ],
      "text/plain": [
       "                 #inst   total_time  avg_time  std_time    total_ev  \\\n",
       "beckoning         41.0    66.763535  1.628379  0.229014   2949776.0   \n",
       "finger-snap       40.0    59.443526  1.486088  0.327845   2203881.0   \n",
       "ok                40.0    63.322015  1.583050  0.195415   3054306.0   \n",
       "push-hand-down    41.0    77.488926  1.889974  0.255861   4000518.0   \n",
       "push-hand-left    40.0    74.389878  1.859747  0.417886   3859846.0   \n",
       "push-hand-right   39.0    75.817942  1.944050  0.267268   5550913.0   \n",
       "push-hand-up      41.0    83.916334  2.046740  0.309758   5278815.0   \n",
       "rotate-outward    40.0    50.935163  1.273379  0.192394   2104242.0   \n",
       "swipe-down        41.0    67.505919  1.646486  0.285907   3789590.0   \n",
       "swipe-left        41.0    65.501331  1.597593  0.278997   3709310.0   \n",
       "swipe-right       40.0    64.569184  1.614230  0.282917   3339538.0   \n",
       "swipe-up          42.0    71.381014  1.699548  0.275111   4359013.0   \n",
       "tap-index         40.0    62.238884  1.555972  0.192329   2620666.0   \n",
       "thumbs-up         40.0    54.663002  1.366575  0.214559   1939608.0   \n",
       "zoom-in           40.0    73.169005  1.829225  0.331248   3414950.0   \n",
       "zoom-out          41.0    73.581815  1.794678  0.260898   3425209.0   \n",
       "<blank>            NaN  1330.568079       NaN       NaN  28865096.0   \n",
       "\n",
       "                        avg_ev        std_ev  \n",
       "beckoning         71945.756098  29515.667067  \n",
       "finger-snap       55097.025000  19777.529730  \n",
       "ok                76357.650000  18290.085635  \n",
       "push-hand-down    97573.609756  33154.508194  \n",
       "push-hand-left    96496.150000  32781.624712  \n",
       "push-hand-right  142331.102564  57933.151998  \n",
       "push-hand-up     128751.585366  48901.492595  \n",
       "rotate-outward    52606.050000  18325.925825  \n",
       "swipe-down        92429.024390  47715.085493  \n",
       "swipe-left        90470.975610  36633.244260  \n",
       "swipe-right       83488.450000  39184.870213  \n",
       "swipe-up         103786.023810  38998.559626  \n",
       "tap-index         65516.650000  20536.629417  \n",
       "thumbs-up         48490.200000  15750.504813  \n",
       "zoom-in           85373.750000  36047.710980  \n",
       "zoom-out          83541.682927  28812.035706  \n",
       "<blank>                    NaN           NaN  "
      ]
     },
     "execution_count": 10,
     "metadata": {},
     "output_type": "execute_result"
    }
   ],
   "source": [
    "df"
   ]
  },
  {
   "cell_type": "code",
   "execution_count": 14,
   "metadata": {},
   "outputs": [
    {
     "name": "stdout",
     "output_type": "stream",
     "text": [
      "|beckoning|41|\\SI{67}{\\second} ($\\mu = \\SI{1.6}{\\second}, \\sigma = \\SI{0.2}{\\second}$)|2,949,776 ($\\mu = 71,945, \\sigma = 29,515$)|\n",
      "|finger-snap|40|\\SI{59}{\\second} ($\\mu = \\SI{1.5}{\\second}, \\sigma = \\SI{0.3}{\\second}$)|2,203,881 ($\\mu = 55,097, \\sigma = 19,777$)|\n",
      "|ok|40|\\SI{63}{\\second} ($\\mu = \\SI{1.6}{\\second}, \\sigma = \\SI{0.2}{\\second}$)|3,054,306 ($\\mu = 76,357, \\sigma = 18,290$)|\n",
      "|push-hand-down|41|\\SI{77}{\\second} ($\\mu = \\SI{1.9}{\\second}, \\sigma = \\SI{0.3}{\\second}$)|4,000,518 ($\\mu = 97,573, \\sigma = 33,154$)|\n",
      "|push-hand-left|40|\\SI{74}{\\second} ($\\mu = \\SI{1.9}{\\second}, \\sigma = \\SI{0.4}{\\second}$)|3,859,846 ($\\mu = 96,496, \\sigma = 32,781$)|\n",
      "|push-hand-right|39|\\SI{76}{\\second} ($\\mu = \\SI{1.9}{\\second}, \\sigma = \\SI{0.3}{\\second}$)|5,550,913 ($\\mu = 142,331, \\sigma = 57,933$)|\n",
      "|push-hand-up|41|\\SI{84}{\\second} ($\\mu = \\SI{2.0}{\\second}, \\sigma = \\SI{0.3}{\\second}$)|5,278,815 ($\\mu = 128,751, \\sigma = 48,901$)|\n",
      "|rotate-outward|40|\\SI{51}{\\second} ($\\mu = \\SI{1.3}{\\second}, \\sigma = \\SI{0.2}{\\second}$)|2,104,242 ($\\mu = 52,606, \\sigma = 18,325$)|\n",
      "|swipe-down|41|\\SI{68}{\\second} ($\\mu = \\SI{1.6}{\\second}, \\sigma = \\SI{0.3}{\\second}$)|3,789,590 ($\\mu = 92,429, \\sigma = 47,715$)|\n",
      "|swipe-left|41|\\SI{66}{\\second} ($\\mu = \\SI{1.6}{\\second}, \\sigma = \\SI{0.3}{\\second}$)|3,709,310 ($\\mu = 90,470, \\sigma = 36,633$)|\n",
      "|swipe-right|40|\\SI{65}{\\second} ($\\mu = \\SI{1.6}{\\second}, \\sigma = \\SI{0.3}{\\second}$)|3,339,538 ($\\mu = 83,488, \\sigma = 39,184$)|\n",
      "|swipe-up|42|\\SI{71}{\\second} ($\\mu = \\SI{1.7}{\\second}, \\sigma = \\SI{0.3}{\\second}$)|4,359,013 ($\\mu = 103,786, \\sigma = 38,998$)|\n",
      "|tap-index|40|\\SI{62}{\\second} ($\\mu = \\SI{1.6}{\\second}, \\sigma = \\SI{0.2}{\\second}$)|2,620,666 ($\\mu = 65,516, \\sigma = 20,536$)|\n",
      "|thumbs-up|40|\\SI{55}{\\second} ($\\mu = \\SI{1.4}{\\second}, \\sigma = \\SI{0.2}{\\second}$)|1,939,608 ($\\mu = 48,490, \\sigma = 15,750$)|\n",
      "|zoom-in|40|\\SI{73}{\\second} ($\\mu = \\SI{1.8}{\\second}, \\sigma = \\SI{0.3}{\\second}$)|3,414,950 ($\\mu = 85,373, \\sigma = 36,047$)|\n",
      "|zoom-out|41|\\SI{74}{\\second} ($\\mu = \\SI{1.8}{\\second}, \\sigma = \\SI{0.3}{\\second}$)|3,425,209 ($\\mu = 83,541, \\sigma = 28,812$)|\n",
      "|<blank>|-|\\SI{22.18}{\\minute}|28,865,096|\n"
     ]
    }
   ],
   "source": [
    "for gest, num, tt, at, st, te, ae, se in df.itertuples():\n",
    "    if gest == \"<blank>\":\n",
    "        print(f\"|<blank>|-|\\SI{{{tt / 60:.2f}}}{{\\minute}}|{int(te):,}|\")\n",
    "    else:\n",
    "        print(f\"|{gest}|{int(num)}|\\SI{{{int(np.round(tt))}}}{{\\second}} ($\\mu = \\SI{{{at:.1f}}}{{\\second}}, \\sigma = \\SI{{{st:.1f}}}{{\\second}}$)|{int(te):,} ($\\mu = {int(ae):,}, \\sigma = {int(se):,}$)|\")"
   ]
  },
  {
   "cell_type": "code",
   "execution_count": 13,
   "metadata": {},
   "outputs": [
    {
     "data": {
      "text/plain": [
       "647"
      ]
     },
     "execution_count": 13,
     "metadata": {},
     "output_type": "execute_result"
    }
   ],
   "source": [
    "np.sum(list(num_instances.values()))"
   ]
  }
 ],
 "metadata": {
  "kernelspec": {
   "display_name": "Python 3",
   "language": "python",
   "name": "python3"
  },
  "language_info": {
   "codemirror_mode": {
    "name": "ipython",
    "version": 3
   },
   "file_extension": ".py",
   "mimetype": "text/x-python",
   "name": "python",
   "nbconvert_exporter": "python",
   "pygments_lexer": "ipython3",
   "version": "3.6.0"
  }
 },
 "nbformat": 4,
 "nbformat_minor": 2
}
